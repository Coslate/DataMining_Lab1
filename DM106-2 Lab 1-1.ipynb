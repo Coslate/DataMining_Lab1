{
 "cells": [
  {
   "cell_type": "markdown",
   "metadata": {},
   "source": [
    "## Introduction\n",
    "\n",
    "- Python is a dynamic, interpreted language\n",
    "- No type declarations of variables\n",
    "- Forces you to obey its indentation rules\n",
    "- You can directly type code on python shell or write code to a file and use 'python XXX.py' to execute it\n",
    "- Jupyter Notebook provide us a friendly UI to interact with python"
   ]
  },
  {
   "cell_type": "markdown",
   "metadata": {},
   "source": [
    "## Print"
   ]
  },
  {
   "cell_type": "code",
   "execution_count": 1,
   "metadata": {
    "collapsed": false
   },
   "outputs": [
    {
     "name": "stdout",
     "output_type": "stream",
     "text": [
      "Hello World!\n"
     ]
    }
   ],
   "source": [
    "print(\"Hello World!\")"
   ]
  },
  {
   "cell_type": "code",
   "execution_count": 2,
   "metadata": {
    "collapsed": false
   },
   "outputs": [
    {
     "name": "stdout",
     "output_type": "stream",
     "text": [
      "123\n"
     ]
    }
   ],
   "source": [
    "print(123)"
   ]
  },
  {
   "cell_type": "code",
   "execution_count": 3,
   "metadata": {
    "collapsed": false,
    "scrolled": true
   },
   "outputs": [
    {
     "name": "stdout",
     "output_type": "stream",
     "text": [
      "[1, 2, 3]\n"
     ]
    }
   ],
   "source": [
    "a = [1, 2, 3]\n",
    "print(a)"
   ]
  },
  {
   "cell_type": "markdown",
   "metadata": {},
   "source": [
    "## Variables"
   ]
  },
  {
   "cell_type": "markdown",
   "metadata": {},
   "source": [
    "### Dynamic Type"
   ]
  },
  {
   "cell_type": "code",
   "execution_count": 4,
   "metadata": {
    "collapsed": false
   },
   "outputs": [
    {
     "name": "stdout",
     "output_type": "stream",
     "text": [
      "1 <class 'int'>\n",
      "Hello World! <class 'str'>\n"
     ]
    }
   ],
   "source": [
    "a = 1\n",
    "print(a, type(a))\n",
    "a = \"Hello World!\"\n",
    "print(a, type(a))"
   ]
  },
  {
   "cell_type": "markdown",
   "metadata": {},
   "source": [
    "### Assignment"
   ]
  },
  {
   "cell_type": "code",
   "execution_count": 5,
   "metadata": {
    "collapsed": false
   },
   "outputs": [
    {
     "name": "stdout",
     "output_type": "stream",
     "text": [
      "0 1\n"
     ]
    }
   ],
   "source": [
    "a, b = 0, 1\n",
    "print(a, b)"
   ]
  },
  {
   "cell_type": "markdown",
   "metadata": {},
   "source": [
    "### Int & Float Type\n",
    "- Basic Operations are same as C\n",
    "- Don't need to worry about integer overflow\n",
    "- x ** y means y power of x"
   ]
  },
  {
   "cell_type": "code",
   "execution_count": 6,
   "metadata": {
    "collapsed": false
   },
   "outputs": [
    {
     "name": "stdout",
     "output_type": "stream",
     "text": [
      "3\n",
      "10\n",
      "-2\n",
      "1.3333333333333333\n"
     ]
    }
   ],
   "source": [
    "print(1 + 2)\n",
    "print(2 * 5)\n",
    "print(3 - 5)\n",
    "print(4 / 3)"
   ]
  },
  {
   "cell_type": "code",
   "execution_count": 7,
   "metadata": {
    "collapsed": false
   },
   "outputs": [
    {
     "name": "stdout",
     "output_type": "stream",
     "text": [
      "10715086071862673209484250490600018105614048117055336074437503883703510511249361224931983788156958581275946729175531468251871452856923140435984577574698574803934567774824230985421074605062371141877954182153046474983581941267398767559165543946077062914571196477686542167660429831652624386837205668069376\n"
     ]
    }
   ],
   "source": [
    "print(2 ** 1000)"
   ]
  },
  {
   "cell_type": "markdown",
   "metadata": {},
   "source": [
    "### String Type\n",
    "- Concat two strings by using \"+\" operator\n",
    "- Repeat the string by using \"*\" operator\n",
    "- Support Indexing\n"
   ]
  },
  {
   "cell_type": "code",
   "execution_count": 8,
   "metadata": {
    "collapsed": false
   },
   "outputs": [
    {
     "name": "stdout",
     "output_type": "stream",
     "text": [
      "Hello World!\n"
     ]
    }
   ],
   "source": [
    "print(\"Hello \" + \"World!\")"
   ]
  },
  {
   "cell_type": "code",
   "execution_count": 9,
   "metadata": {
    "collapsed": false
   },
   "outputs": [
    {
     "name": "stdout",
     "output_type": "stream",
     "text": [
      "Hello Hello Hello Hello Hello Hello Hello Hello Hello Hello \n"
     ]
    }
   ],
   "source": [
    "print(\"Hello \" * 10)"
   ]
  },
  {
   "cell_type": "code",
   "execution_count": 10,
   "metadata": {
    "collapsed": false
   },
   "outputs": [
    {
     "name": "stdout",
     "output_type": "stream",
     "text": [
      "H e l\n"
     ]
    }
   ],
   "source": [
    "s = \"Hello World!\"\n",
    "print(s[0], s[1], s[2])"
   ]
  },
  {
   "cell_type": "code",
   "execution_count": 11,
   "metadata": {
    "collapsed": false
   },
   "outputs": [
    {
     "name": "stdout",
     "output_type": "stream",
     "text": [
      "My name is John, I'm 30 years old.\n"
     ]
    }
   ],
   "source": [
    "s = \"My name is %s, I'm %d years old.\" % (\"John\", 30)\n",
    "print(s)"
   ]
  },
  {
   "cell_type": "markdown",
   "metadata": {},
   "source": [
    "### List Type\n",
    "- Powerful array-like structure"
   ]
  },
  {
   "cell_type": "code",
   "execution_count": 12,
   "metadata": {
    "collapsed": false
   },
   "outputs": [
    {
     "name": "stdout",
     "output_type": "stream",
     "text": [
      "# First, last, second-last Element\n",
      "0 9 8\n",
      "# From second element to fourth element\n",
      "[1, 2, 3]\n",
      "# Every two element\n",
      "[0, 2, 4, 6, 8]\n"
     ]
    }
   ],
   "source": [
    "a = [0, 1, 2, 3, 4, 5, 6, 7, 8, 9]\n",
    "print(\"# First, last, second-last Element\")\n",
    "print(a[0], a[-1], a[-2])\n",
    "\n",
    "print(\"# From second element to fourth element\")\n",
    "print(a[1:4])\n",
    "\n",
    "print(\"# Every two element\")\n",
    "print(a[::2])"
   ]
  },
  {
   "cell_type": "code",
   "execution_count": 13,
   "metadata": {
    "collapsed": false
   },
   "outputs": [
    {
     "name": "stdout",
     "output_type": "stream",
     "text": [
      "# Append & Pop\n",
      "[10, 11, 12, 13, 14, 15]\n",
      "[10, 11, 12, 13, 14]\n",
      "# Delete & Insert\n",
      "[11, 12, 13, 14]\n",
      "[10, 11, 12, 13, 14]\n"
     ]
    }
   ],
   "source": [
    "a = [10,11,12,13,14]\n",
    "print(\"# Append & Pop\")\n",
    "a.append(15)\n",
    "print(a)\n",
    "a.pop()\n",
    "print(a)\n",
    "\n",
    "print(\"# Delete & Insert\")\n",
    "del a[0]\n",
    "print(a)\n",
    "a.insert(0, 10)\n",
    "print(a)"
   ]
  },
  {
   "cell_type": "code",
   "execution_count": 14,
   "metadata": {
    "collapsed": false
   },
   "outputs": [
    {
     "name": "stdout",
     "output_type": "stream",
     "text": [
      "[0, 'Hello', 0.1, 'World']\n"
     ]
    }
   ],
   "source": [
    "a = [0, 'Hello', 0.1, 'World']\n",
    "print(a)"
   ]
  },
  {
   "cell_type": "code",
   "execution_count": 15,
   "metadata": {
    "collapsed": false
   },
   "outputs": [
    {
     "name": "stdout",
     "output_type": "stream",
     "text": [
      "List 1\n",
      "List 2\n"
     ]
    }
   ],
   "source": [
    "a = ['List 1', ['List 2']]\n",
    "print(a[0])\n",
    "print(a[1][0])"
   ]
  },
  {
   "cell_type": "code",
   "execution_count": 16,
   "metadata": {
    "collapsed": false
   },
   "outputs": [
    {
     "name": "stdout",
     "output_type": "stream",
     "text": [
      "[0, 0, 0, 0, 0, 0, 0, 0, 0, 0]\n",
      "[0, 1, 2, 3, 4, 5]\n"
     ]
    }
   ],
   "source": [
    "a = [0] * 10\n",
    "print(a)\n",
    "\n",
    "a = [0, 1, 2] + [3, 4, 5]\n",
    "print(a)"
   ]
  },
  {
   "cell_type": "code",
   "execution_count": 17,
   "metadata": {
    "collapsed": false
   },
   "outputs": [
    {
     "name": "stdout",
     "output_type": "stream",
     "text": [
      "[1, 2, 3, 4, 5]\n",
      "[5, 4, 3, 2, 1]\n"
     ]
    }
   ],
   "source": [
    "l = [1, 3, 2, 5, 4]\n",
    "l.sort()\n",
    "print(l)\n",
    "l.reverse()\n",
    "print(l)"
   ]
  },
  {
   "cell_type": "code",
   "execution_count": 18,
   "metadata": {
    "collapsed": false
   },
   "outputs": [
    {
     "name": "stdout",
     "output_type": "stream",
     "text": [
      "Len:  5\n",
      "Sum:  15\n",
      "Max:  5\n",
      "Min:  1\n"
     ]
    }
   ],
   "source": [
    "l = [1, 2, 3, 4, 5]\n",
    "print(\"Len: \", len(l))\n",
    "print(\"Sum: \", sum(l))\n",
    "print(\"Max: \", max(l))\n",
    "print(\"Min: \", min(l))"
   ]
  },
  {
   "cell_type": "code",
   "execution_count": 19,
   "metadata": {
    "collapsed": false
   },
   "outputs": [
    {
     "name": "stdout",
     "output_type": "stream",
     "text": [
      "[1, 2, 3, 4, 5]\n"
     ]
    }
   ],
   "source": [
    "l = [1, 2, 3, 4, 5]\n",
    "new_l = l.copy()\n",
    "print(new_l)"
   ]
  },
  {
   "cell_type": "markdown",
   "metadata": {},
   "source": [
    "### Tuple Type\n",
    "- Similar to List, but cannot be modified"
   ]
  },
  {
   "cell_type": "code",
   "execution_count": 20,
   "metadata": {
    "collapsed": false
   },
   "outputs": [
    {
     "name": "stdout",
     "output_type": "stream",
     "text": [
      "2\n",
      "'tuple' object does not support item assignment\n"
     ]
    }
   ],
   "source": [
    "a = (1, 2, 3)\n",
    "print(a[1])\n",
    "try:\n",
    "    a[1] = 10\n",
    "except TypeError as e:\n",
    "    print(e)"
   ]
  },
  {
   "cell_type": "markdown",
   "metadata": {},
   "source": [
    "### Dictionary Type\n",
    "- Similar to C++ map structure"
   ]
  },
  {
   "cell_type": "code",
   "execution_count": 21,
   "metadata": {
    "collapsed": false
   },
   "outputs": [
    {
     "name": "stdout",
     "output_type": "stream",
     "text": [
      "1\n",
      "2\n"
     ]
    }
   ],
   "source": [
    "a = {'x': 1, 'y': 2}\n",
    "print(a['x'])\n",
    "print(a['y'])"
   ]
  },
  {
   "cell_type": "code",
   "execution_count": 22,
   "metadata": {
    "collapsed": false
   },
   "outputs": [
    {
     "name": "stdout",
     "output_type": "stream",
     "text": [
      "[1, 2, 3]\n",
      "{'x': 10}\n"
     ]
    }
   ],
   "source": [
    "a = {'list': [1, 2, 3], 'dict': {'x': 10}}\n",
    "print(a['list'])\n",
    "print(a['dict'])"
   ]
  },
  {
   "cell_type": "markdown",
   "metadata": {},
   "source": [
    "### Set Type"
   ]
  },
  {
   "cell_type": "code",
   "execution_count": 23,
   "metadata": {
    "collapsed": false
   },
   "outputs": [
    {
     "name": "stdout",
     "output_type": "stream",
     "text": [
      "{1, 2, 3}\n"
     ]
    }
   ],
   "source": [
    "x = {1, 2, 2, 3}\n",
    "print(x)"
   ]
  },
  {
   "cell_type": "code",
   "execution_count": 24,
   "metadata": {
    "collapsed": false
   },
   "outputs": [
    {
     "name": "stdout",
     "output_type": "stream",
     "text": [
      "{1, 2, 3, 4}\n",
      "{1, 2, 3}\n"
     ]
    }
   ],
   "source": [
    "x = {1, 2, 3}\n",
    "x.add(4)\n",
    "print(x)\n",
    "x.remove(4)\n",
    "print(x)"
   ]
  },
  {
   "cell_type": "code",
   "execution_count": 25,
   "metadata": {
    "collapsed": false
   },
   "outputs": [
    {
     "name": "stdout",
     "output_type": "stream",
     "text": [
      "{1, 2, 3, 4, 5}\n",
      "{3}\n",
      "{1, 2}\n"
     ]
    }
   ],
   "source": [
    "x, y = {1, 2, 3}, {3, 4, 5}\n",
    "print(x.union(y))\n",
    "print(x.intersection(y))\n",
    "print(x.difference(y))"
   ]
  },
  {
   "cell_type": "markdown",
   "metadata": {},
   "source": [
    "### Mutable v.s. Immutable"
   ]
  },
  {
   "cell_type": "code",
   "execution_count": 26,
   "metadata": {
    "collapsed": false
   },
   "outputs": [
    {
     "name": "stdout",
     "output_type": "stream",
     "text": [
      "1\n"
     ]
    }
   ],
   "source": [
    "# Immutable (Call by value)\n",
    "# string, numeric, tuple\n",
    "def f(x):\n",
    "    x += 1\n",
    "a = 1\n",
    "f(a)\n",
    "print(a)"
   ]
  },
  {
   "cell_type": "code",
   "execution_count": 27,
   "metadata": {
    "collapsed": false
   },
   "outputs": [
    {
     "name": "stdout",
     "output_type": "stream",
     "text": [
      "[10000, 1, 2, 3]\n"
     ]
    }
   ],
   "source": [
    "# Mutable (Call by reference)\n",
    "# list, dict, set, object\n",
    "def f(x):\n",
    "    x[0] = 10000\n",
    "l = [0, 1, 2, 3]\n",
    "f(l)\n",
    "print(l)"
   ]
  },
  {
   "cell_type": "code",
   "execution_count": 26,
   "metadata": {
    "collapsed": false
   },
   "outputs": [
    {
     "name": "stdout",
     "output_type": "stream",
     "text": [
      "[10000, 2, 3]\n",
      "[1, 2, 3]\n"
     ]
    }
   ],
   "source": [
    "# Mutable (Call by reference)\n",
    "# list, dict, set, object\n",
    "l = [1,2,3]\n",
    "new_l = l\n",
    "new_l[0] = 10000\n",
    "print(l)\n",
    "\n",
    "\n",
    "l = [1,2,3]\n",
    "new_l = l.copy()\n",
    "new_l[0] = 10000\n",
    "print(l)"
   ]
  },
  {
   "cell_type": "markdown",
   "metadata": {},
   "source": [
    "## Control Statement"
   ]
  },
  {
   "cell_type": "markdown",
   "metadata": {},
   "source": [
    "### If, elif, else"
   ]
  },
  {
   "cell_type": "code",
   "execution_count": 29,
   "metadata": {
    "collapsed": false
   },
   "outputs": [
    {
     "name": "stdout",
     "output_type": "stream",
     "text": [
      "a equal 0\n"
     ]
    }
   ],
   "source": [
    "a = 0\n",
    "if a < 0:\n",
    "    print(\"a smaller than 0\")\n",
    "elif a > 0:\n",
    "    print(\"a larger than 0\")\n",
    "else:\n",
    "    print(\"a equal 0\")"
   ]
  },
  {
   "cell_type": "code",
   "execution_count": 30,
   "metadata": {
    "collapsed": false
   },
   "outputs": [
    {
     "name": "stdout",
     "output_type": "stream",
     "text": [
      "a or b equal 0\n"
     ]
    }
   ],
   "source": [
    "a, b = 1, 0\n",
    "if a == 0 and b == 0:\n",
    "    print(\"a and b equal 0\")\n",
    "elif a == 0 or b == 0:\n",
    "    print(\"a or b equal 0\")"
   ]
  },
  {
   "cell_type": "markdown",
   "metadata": {},
   "source": [
    "### While Loop"
   ]
  },
  {
   "cell_type": "code",
   "execution_count": 31,
   "metadata": {
    "collapsed": false
   },
   "outputs": [
    {
     "name": "stdout",
     "output_type": "stream",
     "text": [
      "0\n",
      "1\n",
      "2\n",
      "3\n",
      "4\n"
     ]
    }
   ],
   "source": [
    "a = 0\n",
    "while a < 5:\n",
    "    print(a)\n",
    "    a += 1"
   ]
  },
  {
   "cell_type": "markdown",
   "metadata": {},
   "source": [
    "### For Loop\n",
    "- Different from C, C++, Java for-loop\n",
    "- It is a for-each loop"
   ]
  },
  {
   "cell_type": "code",
   "execution_count": 32,
   "metadata": {
    "collapsed": false
   },
   "outputs": [
    {
     "name": "stdout",
     "output_type": "stream",
     "text": [
      "0\n",
      "1\n",
      "2\n",
      "3\n",
      "4\n"
     ]
    }
   ],
   "source": [
    "for i in range(5):\n",
    "    print(i)"
   ]
  },
  {
   "cell_type": "code",
   "execution_count": 33,
   "metadata": {
    "collapsed": false
   },
   "outputs": [
    {
     "name": "stdout",
     "output_type": "stream",
     "text": [
      "H\n",
      "e\n",
      "l\n",
      "l\n",
      "o\n"
     ]
    }
   ],
   "source": [
    "a = ['H', 'e', 'l', 'l', 'o']\n",
    "for w in a:\n",
    "    print(w)"
   ]
  },
  {
   "cell_type": "code",
   "execution_count": 34,
   "metadata": {
    "collapsed": false
   },
   "outputs": [
    {
     "name": "stdout",
     "output_type": "stream",
     "text": [
      "0\n",
      "1\n",
      "2\n",
      "3\n",
      "4\n"
     ]
    }
   ],
   "source": [
    "for i in range(5):\n",
    "    print(i)\n",
    "    i += 10"
   ]
  },
  {
   "cell_type": "code",
   "execution_count": 35,
   "metadata": {
    "collapsed": false
   },
   "outputs": [
    {
     "data": {
      "text/plain": [
       "[0, 1, 2, 3, 4]"
      ]
     },
     "execution_count": 35,
     "metadata": {},
     "output_type": "execute_result"
    }
   ],
   "source": [
    "list(range(5))"
   ]
  },
  {
   "cell_type": "code",
   "execution_count": 36,
   "metadata": {
    "collapsed": false
   },
   "outputs": [
    {
     "data": {
      "text/plain": [
       "range(0, 8, 2)"
      ]
     },
     "execution_count": 36,
     "metadata": {},
     "output_type": "execute_result"
    }
   ],
   "source": [
    "range(5) # -> 0, 1, 2, 3, 4\n",
    "range(3, 6) #-> 3, 4, 5\n",
    "range(0, 8, 2) #-> 0, 2, 4, 6"
   ]
  },
  {
   "cell_type": "markdown",
   "metadata": {},
   "source": [
    "## Function"
   ]
  },
  {
   "cell_type": "code",
   "execution_count": 37,
   "metadata": {
    "collapsed": false
   },
   "outputs": [
    {
     "name": "stdout",
     "output_type": "stream",
     "text": [
      "3\n",
      "Hello World!\n"
     ]
    }
   ],
   "source": [
    "def add(x, y):\n",
    "    return x + y\n",
    "print(add(1, 2))\n",
    "print(add(\"Hello \", \"World!\"))"
   ]
  },
  {
   "cell_type": "code",
   "execution_count": 38,
   "metadata": {
    "collapsed": false
   },
   "outputs": [
    {
     "name": "stdout",
     "output_type": "stream",
     "text": [
      "12.566370614359172\n",
      "12.566370614359172\n",
      "3.141592653589793\n"
     ]
    }
   ],
   "source": [
    "import math\n",
    "def area_of_circle(radius=1):\n",
    "    return radius ** 2 * math.pi\n",
    "\n",
    "print(area_of_circle(2))\n",
    "print(area_of_circle(radius=2))\n",
    "print(area_of_circle())"
   ]
  },
  {
   "cell_type": "code",
   "execution_count": 39,
   "metadata": {
    "collapsed": false
   },
   "outputs": [
    {
     "name": "stdout",
     "output_type": "stream",
     "text": [
      "1 2\n"
     ]
    }
   ],
   "source": [
    "def f():\n",
    "    return 1, 2\n",
    "\n",
    "a, b = f()\n",
    "print(a, b)"
   ]
  },
  {
   "cell_type": "code",
   "execution_count": 40,
   "metadata": {
    "collapsed": false
   },
   "outputs": [
    {
     "name": "stdout",
     "output_type": "stream",
     "text": [
      "(1, 2, 3, 4)\n",
      "{'c': 7, 'b': 6, 'a': 5}\n"
     ]
    }
   ],
   "source": [
    "def f(*arg, **key):\n",
    "    print(arg)\n",
    "    print(key)\n",
    "    \n",
    "f(1, 2, 3, 4, a=5, b=6, c=7)"
   ]
  },
  {
   "cell_type": "markdown",
   "metadata": {},
   "source": [
    "## Import\n",
    "You may use **import** when you want to\n",
    "- divide your code to multiple files\n",
    "- use some functions written by others\n",
    "- use some builtin functions"
   ]
  },
  {
   "cell_type": "code",
   "execution_count": 41,
   "metadata": {
    "collapsed": false
   },
   "outputs": [
    {
     "name": "stdout",
     "output_type": "stream",
     "text": [
      "1.0\n",
      "1.0\n",
      "1.0\n",
      "1.0\n"
     ]
    }
   ],
   "source": [
    "import math\n",
    "print(math.cos(0))\n",
    "\n",
    "# or\n",
    "from math import cos\n",
    "print(cos(0))\n",
    "\n",
    "# or\n",
    "import math as m\n",
    "print(m.cos(0))\n",
    "\n",
    "# or\n",
    "from math import cos as c\n",
    "print(c(0))"
   ]
  },
  {
   "cell_type": "code",
   "execution_count": 42,
   "metadata": {
    "collapsed": false
   },
   "outputs": [
    {
     "name": "stdout",
     "output_type": "stream",
     "text": [
      "Var:  2\n",
      "Std:  1.4142135623730951\n"
     ]
    }
   ],
   "source": [
    "import math, statistics\n",
    "l = [1, 2, 3, 4, 5]\n",
    "print(\"Var: \", statistics.pvariance(l))\n",
    "print(\"Std: \", math.sqrt(statistics.pvariance(l)))"
   ]
  },
  {
   "cell_type": "markdown",
   "metadata": {},
   "source": [
    "## List/Dictionary Comprehension"
   ]
  },
  {
   "cell_type": "code",
   "execution_count": 43,
   "metadata": {
    "collapsed": false
   },
   "outputs": [
    {
     "name": "stdout",
     "output_type": "stream",
     "text": [
      "[0, 1, 4, 9, 16, 25, 36, 49, 64, 81]\n"
     ]
    }
   ],
   "source": [
    "squares = []\n",
    "for i in range(10):\n",
    "    squares.append(i ** 2)\n",
    "print(squares)"
   ]
  },
  {
   "cell_type": "code",
   "execution_count": 44,
   "metadata": {
    "collapsed": false
   },
   "outputs": [
    {
     "name": "stdout",
     "output_type": "stream",
     "text": [
      "[0, 1, 4, 9, 16, 25, 36, 49, 64, 81]\n"
     ]
    }
   ],
   "source": [
    "squares = [i ** 2 for i in range(10)]\n",
    "print(squares)"
   ]
  },
  {
   "cell_type": "code",
   "execution_count": 45,
   "metadata": {
    "collapsed": false
   },
   "outputs": [
    {
     "name": "stdout",
     "output_type": "stream",
     "text": [
      "[2, 4, 6, 8]\n",
      "[False, True, False, True]\n"
     ]
    }
   ],
   "source": [
    "odds = [i for i in range(1, 10) if i % 2 == 0]\n",
    "print(odds)\n",
    "\n",
    "nums = [1, 2, 3, 4]\n",
    "is_odds = [True if i % 2 == 0 else False for i in nums]\n",
    "print(is_odds)"
   ]
  },
  {
   "cell_type": "code",
   "execution_count": 46,
   "metadata": {
    "collapsed": false
   },
   "outputs": [
    {
     "data": {
      "text/plain": [
       "[[1, 2, 3, 4, 5, 6, 7, 8, 9],\n",
       " [2, 4, 6, 8, 10, 12, 14, 16, 18],\n",
       " [3, 6, 9, 12, 15, 18, 21, 24, 27],\n",
       " [4, 8, 12, 16, 20, 24, 28, 32, 36],\n",
       " [5, 10, 15, 20, 25, 30, 35, 40, 45],\n",
       " [6, 12, 18, 24, 30, 36, 42, 48, 54],\n",
       " [7, 14, 21, 28, 35, 42, 49, 56, 63],\n",
       " [8, 16, 24, 32, 40, 48, 56, 64, 72],\n",
       " [9, 18, 27, 36, 45, 54, 63, 72, 81]]"
      ]
     },
     "execution_count": 46,
     "metadata": {},
     "output_type": "execute_result"
    }
   ],
   "source": [
    "arr = [[i * j for i in range(1, 10)] for j in range(1, 10)]\n",
    "arr"
   ]
  },
  {
   "cell_type": "code",
   "execution_count": 47,
   "metadata": {
    "collapsed": false
   },
   "outputs": [
    {
     "name": "stdout",
     "output_type": "stream",
     "text": [
      "{'Hello': 1, '!': 3, 'World': 2}\n"
     ]
    }
   ],
   "source": [
    "l = [('Hello', 1), ('World', 2), ('!', 3)]\n",
    "dict = {k: i for k, i in l}\n",
    "print(dict)"
   ]
  },
  {
   "cell_type": "markdown",
   "metadata": {},
   "source": [
    "## Exercise"
   ]
  },
  {
   "cell_type": "markdown",
   "metadata": {},
   "source": [
    "### Q1\n",
    "```\n",
    "請設計一個函數\n",
    "輸入為正整數\n",
    "並回傳一個包含從 1 到 2 * n - 1 的 List\n",
    "ex: \n",
    "```\n",
    "\n",
    "```python\n",
    "f(5) # -> [1, 3, 5, 7, 9]\n",
    "f(8) # -> [1, 3, 5, 7, 9, 11, 13, 15]\n",
    "```"
   ]
  },
  {
   "cell_type": "code",
   "execution_count": 1,
   "metadata": {
    "collapsed": false
   },
   "outputs": [
    {
     "name": "stdout",
     "output_type": "stream",
     "text": [
      "[1, 3, 5, 7, 9]\n",
      "[1, 3, 5, 7, 9, 11, 13, 15]\n"
     ]
    }
   ],
   "source": [
    "def RetList(in_val):\n",
    "    ret_list = []\n",
    "    for x in range(2*in_val):\n",
    "        if(x%2==1):\n",
    "            ret_list.append(x)\n",
    "    return ret_list\n",
    "\n",
    "print(RetList(5))\n",
    "print(RetList(8))"
   ]
  },
  {
   "cell_type": "markdown",
   "metadata": {},
   "source": [
    "### Q2\n",
    "```\n",
    "請設計一個函數\n",
    "輸入為一個只包含數值的 List\n",
    "並回傳該 List 的 min, max, mean值\n",
    "ex:\n",
    "```\n",
    "```python\n",
    "L = [2, 1, 3, 5, 4]\n",
    "min_v, max_v, mean_v = f(L)\n",
    "min_v, max_v, mean_v # -> 1, 5, 3\n",
    "```"
   ]
  },
  {
   "cell_type": "code",
   "execution_count": 2,
   "metadata": {
    "collapsed": false
   },
   "outputs": [
    {
     "name": "stdout",
     "output_type": "stream",
     "text": [
      "min = 1\n",
      "max = 5\n",
      "mean = 3.0\n"
     ]
    }
   ],
   "source": [
    "def RetMinMaxMean(in_list):\n",
    "    ans_list = [min(in_list), max(in_list), sum(in_list)/len(in_list)]\n",
    "    return ans_list\n",
    "\n",
    "ans_list = RetMinMaxMean([2, 1, 3, 5, 4])\n",
    "print(\"min = {x}\".format(x = ans_list[0]))\n",
    "print(\"max = {x}\".format(x = ans_list[1]))\n",
    "print(\"mean = {x}\".format(x = ans_list[2]))"
   ]
  },
  {
   "cell_type": "markdown",
   "metadata": {},
   "source": [
    "### Q3\n",
    "```\n",
    "請設計一個函數\n",
    "輸入為一個正整數 **n**\n",
    "並回傳該正整數是否為質數\n",
    "ex:\n",
    "```\n",
    "```python\n",
    "is_prime(10) # -> False\n",
    "is_prime(2) # -> True\n",
    "is_prime(17) # -> True\n",
    "```"
   ]
  },
  {
   "cell_type": "code",
   "execution_count": 3,
   "metadata": {
    "collapsed": false
   },
   "outputs": [
    {
     "name": "stdout",
     "output_type": "stream",
     "text": [
      "False\n",
      "True\n",
      "True\n"
     ]
    }
   ],
   "source": [
    "def IsPrime(n):\n",
    "    is_prime = True\n",
    "    for x in range(2, n):\n",
    "        if(n%x==0):\n",
    "            is_prime = False\n",
    "            break\n",
    "    return is_prime\n",
    "\n",
    "print(IsPrime(10))\n",
    "print(IsPrime(2))\n",
    "print(IsPrime(17))"
   ]
  },
  {
   "cell_type": "markdown",
   "metadata": {},
   "source": [
    "### Q4\n",
    "```\n",
    "請設計一個函數\n",
    "輸入為一個只包含數值的 List\n",
    "並回傳標準化後的新 List\n",
    "注意: 請勿更動到原本的 List\n",
    "https://en.wikipedia.org/wiki/Standard_score#Calculation_from_raw_score\n",
    "ex:\n",
    "```\n",
    "\n",
    "```python\n",
    "l = [1, 2, 3]\n",
    "f(l) # -> [-1.224744871391589, 0.0, 1.224744871391589]\n",
    "l # -> [1, 2, 3]\n",
    "\n",
    "```"
   ]
  },
  {
   "cell_type": "code",
   "execution_count": 4,
   "metadata": {
    "collapsed": false
   },
   "outputs": [
    {
     "name": "stdout",
     "output_type": "stream",
     "text": [
      "origin list = [1, 2, 3]\n",
      "standardized list = [-1.224744871391589, 0.0, 1.224744871391589]\n"
     ]
    }
   ],
   "source": [
    "import numpy\n",
    "def StandardizeList(in_list):\n",
    "    array = numpy.array(in_list)\n",
    "    std_arr = numpy.std(array)\n",
    "    std_mean = numpy.mean(array)\n",
    "    ret_list = [float(format((x-std_mean)/std_arr, '0.15f')) for x in array]\n",
    "    return ret_list\n",
    "\n",
    "l = [1, 2, 3]\n",
    "ans_list = StandardizeList(l)\n",
    "#print(StandardizeList([1, 2, 3]))\n",
    "print(f\"origin list = {l}\")\n",
    "print(f\"standardized list = {ans_list}\")"
   ]
  },
  {
   "cell_type": "markdown",
   "metadata": {},
   "source": [
    "### Q5\n",
    "```\n",
    "請設計一個函數\n",
    "輸入為一個只包含數值的 List\n",
    "並回傳該 List 內的偶數總和\n",
    "注意: 請使用 List Comprehension 來處理\n",
    "ex:\n",
    "```\n",
    "```python\n",
    "l = [1, 2, 3, 4]\n",
    "f(l) # -> 6\n",
    "```"
   ]
  },
  {
   "cell_type": "code",
   "execution_count": 5,
   "metadata": {
    "collapsed": false
   },
   "outputs": [
    {
     "name": "stdout",
     "output_type": "stream",
     "text": [
      "6\n"
     ]
    }
   ],
   "source": [
    "def SumEven(in_list):\n",
    "    sum_total = 0\n",
    "    for x in in_list:\n",
    "        if(x%2==0):\n",
    "            sum_total += x\n",
    "            \n",
    "    return sum_total\n",
    "print(SumEven([1, 2, 3, 4]))"
   ]
  },
  {
   "cell_type": "code",
   "execution_count": null,
   "metadata": {
    "collapsed": true
   },
   "outputs": [],
   "source": []
  },
  {
   "cell_type": "code",
   "execution_count": null,
   "metadata": {
    "collapsed": true
   },
   "outputs": [],
   "source": []
  }
 ],
 "metadata": {
  "kernelspec": {
   "display_name": "Python 3",
   "language": "python",
   "name": "python3"
  },
  "language_info": {
   "codemirror_mode": {
    "name": "ipython",
    "version": 3
   },
   "file_extension": ".py",
   "mimetype": "text/x-python",
   "name": "python",
   "nbconvert_exporter": "python",
   "pygments_lexer": "ipython3",
   "version": "3.6.0"
  }
 },
 "nbformat": 4,
 "nbformat_minor": 2
}
